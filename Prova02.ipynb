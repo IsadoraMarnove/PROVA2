{
 "cells": [
  {
   "cell_type": "code",
   "execution_count": 15,
   "id": "afc312ed-118f-412d-9795-3d6dc1fb6236",
   "metadata": {},
   "outputs": [],
   "source": [
    "consumo_diario = [50, 45, 55, 60, 48, 52, 47, 49, 53, 51, 50, 46, 54, 61, 49, 53, 47, 50, 53, 48, 55, 50, 55, 60, 48, 52, 47, 49, 53, 51]\n"
   ]
  },
  {
   "cell_type": "code",
   "execution_count": 16,
   "id": "05b05ce1-32cc-4b1f-a786-3531db648650",
   "metadata": {},
   "outputs": [],
   "source": [
    "def consumo(consumo_diario):\n",
    "    return sum(consumo_diario) / len(consumo_diario)"
   ]
  },
  {
   "cell_type": "code",
   "execution_count": 17,
   "id": "d2752726-b19f-45a4-827a-a36815ead1f8",
   "metadata": {},
   "outputs": [
    {
     "name": "stdout",
     "output_type": "stream",
     "text": [
      "O consumo diário médio foi: 51.43333333333333\n"
     ]
    }
   ],
   "source": [
    "print(f'O consumo diário médio foi: {consumo(consumo_diario)}')\n"
   ]
  },
  {
   "cell_type": "code",
   "execution_count": null,
   "id": "369dd249-ea56-4cac-96c8-61e3975a4428",
   "metadata": {},
   "outputs": [],
   "source": []
  },
  {
   "cell_type": "code",
   "execution_count": null,
   "id": "116fa810-5205-48ce-a8b0-a04d0959ee05",
   "metadata": {},
   "outputs": [],
   "source": []
  },
  {
   "cell_type": "code",
   "execution_count": null,
   "id": "50bac4a4-3718-4c00-bc9f-21dbffb2cd43",
   "metadata": {},
   "outputs": [],
   "source": []
  },
  {
   "cell_type": "code",
   "execution_count": null,
   "id": "b6fc312d-a259-4bb5-99b2-f8e976c18a5b",
   "metadata": {},
   "outputs": [],
   "source": []
  }
 ],
 "metadata": {
  "kernelspec": {
   "display_name": "Python 3 (ipykernel)",
   "language": "python",
   "name": "python3"
  },
  "language_info": {
   "codemirror_mode": {
    "name": "ipython",
    "version": 3
   },
   "file_extension": ".py",
   "mimetype": "text/x-python",
   "name": "python",
   "nbconvert_exporter": "python",
   "pygments_lexer": "ipython3",
   "version": "3.12.4"
  }
 },
 "nbformat": 4,
 "nbformat_minor": 5
}
